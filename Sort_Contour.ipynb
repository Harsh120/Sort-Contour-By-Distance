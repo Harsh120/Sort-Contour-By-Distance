{
 "cells": [
  {
   "cell_type": "code",
   "execution_count": 1,
   "metadata": {},
   "outputs": [],
   "source": [
    "import cv2\n",
    "import numpy as np\n",
    "import imutils\n",
    "import math"
   ]
  },
  {
   "cell_type": "code",
   "execution_count": 2,
   "metadata": {},
   "outputs": [],
   "source": [
    "image = cv2.imread(\"Final.jpg\")\n",
    "gray = cv2.cvtColor(image, cv2.COLOR_BGR2GRAY)\n",
    "gray = cv2.GaussianBlur(gray, (7, 7), 0)"
   ]
  },
  {
   "cell_type": "code",
   "execution_count": 3,
   "metadata": {},
   "outputs": [],
   "source": [
    "ret,thresh1 = cv2.threshold(gray ,127,255,cv2.THRESH_BINARY_INV)"
   ]
  },
  {
   "cell_type": "code",
   "execution_count": 4,
   "metadata": {},
   "outputs": [],
   "source": [
    "dilate = cv2.dilate(thresh1, None, iterations=2)"
   ]
  },
  {
   "cell_type": "code",
   "execution_count": 5,
   "metadata": {},
   "outputs": [],
   "source": [
    "cnts = cv2.findContours(dilate.copy(), cv2.RETR_EXTERNAL,\n",
    "    cv2.CHAIN_APPROX_SIMPLE)\n",
    "cnts = cnts[0] if imutils.is_cv2() else cnts[1]"
   ]
  },
  {
   "cell_type": "code",
   "execution_count": 6,
   "metadata": {},
   "outputs": [],
   "source": [
    "sorted_ctrs = sorted(cnts, key=lambda ctr: cv2.boundingRect(ctr)[0] + cv2.boundingRect(ctr)[1] * image.shape[1] )"
   ]
  },
  {
   "cell_type": "code",
   "execution_count": 7,
   "metadata": {},
   "outputs": [],
   "source": [
    "def calculateDistance(x1,y1,x2,y2):\n",
    "    dist = math.sqrt((x2 - x1)**2 + (y2 - y1)**2)\n",
    "    return dist\n",
    "\n",
    "def containsContour(cnt, done):\n",
    "    for x in done:\n",
    "        found = np.array_equal(cnt, x)\n",
    "        if found is True:\n",
    "            return True\n",
    "    return False"
   ]
  },
  {
   "cell_type": "code",
   "execution_count": 17,
   "metadata": {},
   "outputs": [
    {
     "name": "stderr",
     "output_type": "stream",
     "text": [
      "C:\\Users\\Intel\\Anaconda3\\lib\\site-packages\\ipykernel_launcher.py:3: DeprecationWarning: elementwise comparison failed; this will raise an error in the future.\n",
      "  This is separate from the ipykernel package so we can avoid doing imports until\n"
     ]
    }
   ],
   "source": [
    "for cnt in sorted_ctrs:\n",
    "     if(cv2.contourArea(cnt) < 400):\n",
    "        sorted_ctrs.remove(cnt)"
   ]
  },
  {
   "cell_type": "code",
   "execution_count": 18,
   "metadata": {},
   "outputs": [
    {
     "name": "stdout",
     "output_type": "stream",
     "text": [
      "3304\n"
     ]
    }
   ],
   "source": [
    "imageWidth = image.shape[1]\n",
    "print(imageWidth)"
   ]
  },
  {
   "cell_type": "code",
   "execution_count": 20,
   "metadata": {},
   "outputs": [],
   "source": [
    "done = []\n",
    "i = 0\n",
    "contour = 0\n",
    "curr_x1 = 0\n",
    "curr_y1 = 0\n",
    "while i<len(sorted_ctrs):\n",
    "    \n",
    "    midpoint_x1 = curr_x1\n",
    "    midpoint_y1 = curr_y1\n",
    "    minDistance = math.inf\n",
    "    roi = 0\n",
    "    \n",
    "    for cnt2 in sorted_ctrs:\n",
    "        found = containsContour(cnt2, done)\n",
    "        if found is True:\n",
    "            continue\n",
    "            \n",
    "        x2,y2,w2,h2 = cv2.boundingRect(cnt2)\n",
    "        midpoint_x2 = x2\n",
    "        midpoint_y2 = ((y2+h2)+y2)/2\n",
    "        Distance = calculateDistance(midpoint_x1,midpoint_y1,midpoint_x2,midpoint_y2)\n",
    "        if(Distance<minDistance): # Find minimum distance\n",
    "            minDistance = Distance\n",
    "            roi = image[y2:y2+h2, x2:x2+w2]\n",
    "            curr_x1 = x2+w2\n",
    "            curr_y1 = (int)((y2+h2)+y2)/2\n",
    "            contour = cnt2\n",
    "    \n",
    "    # Checking left-most edge\n",
    "    Distance = calculateDistance(midpoint_x1,midpoint_y1,imageWidth-1,midpoint_y1)\n",
    "    if(Distance<minDistance): # Change the line\n",
    "        curr_x1 = 0\n",
    "        #curr_y1 = curr_y1\n",
    "        continue\n",
    "\n",
    "    if roi is 0:\n",
    "        i = i + 1\n",
    "        continue\n",
    "    done.append(contour)\n",
    "    \n",
    "    # Save your contours or characters\n",
    "    cv2.imwrite(\"Sorted-Contour/roi\" + str(i) + \".png\", roi)\n",
    "\n",
    "    i = i + 1 "
   ]
  },
  {
   "cell_type": "code",
   "execution_count": null,
   "metadata": {},
   "outputs": [],
   "source": []
  }
 ],
 "metadata": {
  "kernelspec": {
   "display_name": "Python 3",
   "language": "python",
   "name": "python3"
  },
  "language_info": {
   "codemirror_mode": {
    "name": "ipython",
    "version": 3
   },
   "file_extension": ".py",
   "mimetype": "text/x-python",
   "name": "python",
   "nbconvert_exporter": "python",
   "pygments_lexer": "ipython3",
   "version": "3.7.3"
  }
 },
 "nbformat": 4,
 "nbformat_minor": 2
}
